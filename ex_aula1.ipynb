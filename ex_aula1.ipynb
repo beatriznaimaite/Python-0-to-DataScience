{
  "nbformat": 4,
  "nbformat_minor": 0,
  "metadata": {
    "colab": {
      "name": "ex_aula1.ipynb",
      "provenance": [],
      "collapsed_sections": [],
      "mount_file_id": "1WPQKuZ3yiMZb6-Z1WeRKZ56MlN2iZaLX",
      "authorship_tag": "ABX9TyOCD0DZGbNPdE9QID5f+trU",
      "include_colab_link": true
    },
    "kernelspec": {
      "name": "python3",
      "display_name": "Python 3"
    }
  },
  "cells": [
    {
      "cell_type": "markdown",
      "metadata": {
        "id": "view-in-github",
        "colab_type": "text"
      },
      "source": [
        "<a href=\"https://colab.research.google.com/github/beatriznaimaite/Python-0-to-DataScience/blob/main/ex_aula1.ipynb\" target=\"_parent\"><img src=\"https://colab.research.google.com/assets/colab-badge.svg\" alt=\"Open In Colab\"/></a>"
      ]
    },
    {
      "cell_type": "markdown",
      "metadata": {
        "id": "kSWdbtDSTCYl"
      },
      "source": [
        "### Video and Dataset"
      ]
    },
    {
      "cell_type": "markdown",
      "metadata": {
        "id": "f1SNhAqAxYHk"
      },
      "source": [
        "Dataset: [Kaggle](https://www.kaggle.com/harlfoxem/housesalesprediction?select=kc_house_data.csv)\r\n"
      ]
    },
    {
      "cell_type": "code",
      "metadata": {
        "colab": {
          "base_uri": "https://localhost:8080/",
          "height": 381
        },
        "id": "yyfVNHa7vZBM",
        "outputId": "746b1afd-2ccc-4306-8b5b-0b259720ff60"
      },
      "source": [
        "from IPython.display import YouTubeVideo\r\n",
        "YouTubeVideo('1xXK_z9M6yk', width= 640,height=360)"
      ],
      "execution_count": 1,
      "outputs": [
        {
          "output_type": "execute_result",
          "data": {
            "text/html": [
              "\n",
              "        <iframe\n",
              "            width=\"640\"\n",
              "            height=\"360\"\n",
              "            src=\"https://www.youtube.com/embed/1xXK_z9M6yk\"\n",
              "            frameborder=\"0\"\n",
              "            allowfullscreen\n",
              "        ></iframe>\n",
              "        "
            ],
            "text/plain": [
              "<IPython.lib.display.YouTubeVideo at 0x7f3d3893bf60>"
            ],
            "image/jpeg": "[encoded data removed]"
          },
          "metadata": {
            "tags": []
          },
          "execution_count": 1
        }
      ]
    },
    {
      "cell_type": "markdown",
      "metadata": {
        "id": "lQc7ivuNTSGr"
      },
      "source": [
        "### Mount google drive"
      ]
    },
    {
      "cell_type": "code",
      "metadata": {
        "colab": {
          "base_uri": "https://localhost:8080/"
        },
        "id": "0fZiHFjE1FPw",
        "outputId": "45546217-de96-4719-d457-d6cfe5e99665"
      },
      "source": [
        "from google.colab import drive\n",
        "drive.mount('/content/drive')"
      ],
      "execution_count": 2,
      "outputs": [
        {
          "output_type": "stream",
          "text": [
            "Drive already mounted at /content/drive; to attempt to forcibly remount, call drive.mount(\"/content/drive\", force_remount=True).\n"
          ],
          "name": "stdout"
        }
      ]
    },
    {
      "cell_type": "markdown",
      "metadata": {
        "id": "inBvLQq1TfWJ"
      },
      "source": [
        "### Import the libraries and read the dataset"
      ]
    },
    {
      "cell_type": "code",
      "metadata": {
        "id": "JW84cjbb1ZBu"
      },
      "source": [
        "# import libs\r\n",
        "import pandas as pd"
      ],
      "execution_count": 3,
      "outputs": []
    },
    {
      "cell_type": "code",
      "metadata": {
        "colab": {
          "base_uri": "https://localhost:8080/",
          "height": 224
        },
        "id": "hqGFVS6Z1cuJ",
        "outputId": "f305b547-6bcb-4b32-b5df-fdc754ca4995"
      },
      "source": [
        "# read dataset\r\n",
        "data = pd.read_csv('/content/drive/MyDrive/datasets/diversos/kc_house_data.csv')\r\n",
        "data.head()"
      ],
      "execution_count": 4,
      "outputs": [
        {
          "output_type": "execute_result",
          "data": {
            "text/html": [
              "<div>\n",
              "<style scoped>\n",
              "    .dataframe tbody tr th:only-of-type {\n",
              "        vertical-align: middle;\n",
              "    }\n",
              "\n",
              "    .dataframe tbody tr th {\n",
              "        vertical-align: top;\n",
              "    }\n",
              "\n",
              "    .dataframe thead th {\n",
              "        text-align: right;\n",
              "    }\n",
              "</style>\n",
              "<table border=\"1\" class=\"dataframe\">\n",
              "  <thead>\n",
              "    <tr style=\"text-align: right;\">\n",
              "      <th></th>\n",
              "      <th>id</th>\n",
              "      <th>date</th>\n",
              "      <th>price</th>\n",
              "      <th>bedrooms</th>\n",
              "      <th>bathrooms</th>\n",
              "      <th>sqft_living</th>\n",
              "      <th>sqft_lot</th>\n",
              "      <th>floors</th>\n",
              "      <th>waterfront</th>\n",
              "      <th>view</th>\n",
              "      <th>condition</th>\n",
              "      <th>grade</th>\n",
              "      <th>sqft_above</th>\n",
              "      <th>sqft_basement</th>\n",
              "      <th>yr_built</th>\n",
              "      <th>yr_renovated</th>\n",
              "      <th>zipcode</th>\n",
              "      <th>lat</th>\n",
              "      <th>long</th>\n",
              "      <th>sqft_living15</th>\n",
              "      <th>sqft_lot15</th>\n",
              "    </tr>\n",
              "  </thead>\n",
              "  <tbody>\n",
              "    <tr>\n",
              "      <th>0</th>\n",
              "      <td>7129300520</td>\n",
              "      <td>20141013T000000</td>\n",
              "      <td>221900.0</td>\n",
              "      <td>3</td>\n",
              "      <td>1.00</td>\n",
              "      <td>1180</td>\n",
              "      <td>5650</td>\n",
              "      <td>1.0</td>\n",
              "      <td>0</td>\n",
              "      <td>0</td>\n",
              "      <td>3</td>\n",
              "      <td>7</td>\n",
              "      <td>1180</td>\n",
              "      <td>0</td>\n",
              "      <td>1955</td>\n",
              "      <td>0</td>\n",
              "      <td>98178</td>\n",
              "      <td>47.5112</td>\n",
              "      <td>-122.257</td>\n",
              "      <td>1340</td>\n",
              "      <td>5650</td>\n",
              "    </tr>\n",
              "    <tr>\n",
              "      <th>1</th>\n",
              "      <td>6414100192</td>\n",
              "      <td>20141209T000000</td>\n",
              "      <td>538000.0</td>\n",
              "      <td>3</td>\n",
              "      <td>2.25</td>\n",
              "      <td>2570</td>\n",
              "      <td>7242</td>\n",
              "      <td>2.0</td>\n",
              "      <td>0</td>\n",
              "      <td>0</td>\n",
              "      <td>3</td>\n",
              "      <td>7</td>\n",
              "      <td>2170</td>\n",
              "      <td>400</td>\n",
              "      <td>1951</td>\n",
              "      <td>1991</td>\n",
              "      <td>98125</td>\n",
              "      <td>47.7210</td>\n",
              "      <td>-122.319</td>\n",
              "      <td>1690</td>\n",
              "      <td>7639</td>\n",
              "    </tr>\n",
              "    <tr>\n",
              "      <th>2</th>\n",
              "      <td>5631500400</td>\n",
              "      <td>20150225T000000</td>\n",
              "      <td>180000.0</td>\n",
              "      <td>2</td>\n",
              "      <td>1.00</td>\n",
              "      <td>770</td>\n",
              "      <td>10000</td>\n",
              "      <td>1.0</td>\n",
              "      <td>0</td>\n",
              "      <td>0</td>\n",
              "      <td>3</td>\n",
              "      <td>6</td>\n",
              "      <td>770</td>\n",
              "      <td>0</td>\n",
              "      <td>1933</td>\n",
              "      <td>0</td>\n",
              "      <td>98028</td>\n",
              "      <td>47.7379</td>\n",
              "      <td>-122.233</td>\n",
              "      <td>2720</td>\n",
              "      <td>8062</td>\n",
              "    </tr>\n",
              "    <tr>\n",
              "      <th>3</th>\n",
              "      <td>2487200875</td>\n",
              "      <td>20141209T000000</td>\n",
              "      <td>604000.0</td>\n",
              "      <td>4</td>\n",
              "      <td>3.00</td>\n",
              "      <td>1960</td>\n",
              "      <td>5000</td>\n",
              "      <td>1.0</td>\n",
              "      <td>0</td>\n",
              "      <td>0</td>\n",
              "      <td>5</td>\n",
              "      <td>7</td>\n",
              "      <td>1050</td>\n",
              "      <td>910</td>\n",
              "      <td>1965</td>\n",
              "      <td>0</td>\n",
              "      <td>98136</td>\n",
              "      <td>47.5208</td>\n",
              "      <td>-122.393</td>\n",
              "      <td>1360</td>\n",
              "      <td>5000</td>\n",
              "    </tr>\n",
              "    <tr>\n",
              "      <th>4</th>\n",
              "      <td>1954400510</td>\n",
              "      <td>20150218T000000</td>\n",
              "      <td>510000.0</td>\n",
              "      <td>3</td>\n",
              "      <td>2.00</td>\n",
              "      <td>1680</td>\n",
              "      <td>8080</td>\n",
              "      <td>1.0</td>\n",
              "      <td>0</td>\n",
              "      <td>0</td>\n",
              "      <td>3</td>\n",
              "      <td>8</td>\n",
              "      <td>1680</td>\n",
              "      <td>0</td>\n",
              "      <td>1987</td>\n",
              "      <td>0</td>\n",
              "      <td>98074</td>\n",
              "      <td>47.6168</td>\n",
              "      <td>-122.045</td>\n",
              "      <td>1800</td>\n",
              "      <td>7503</td>\n",
              "    </tr>\n",
              "  </tbody>\n",
              "</table>\n",
              "</div>"
            ],
            "text/plain": [
              "           id             date     price  ...     long  sqft_living15  sqft_lot15\n",
              "0  7129300520  20141013T000000  221900.0  ... -122.257           1340        5650\n",
              "1  6414100192  20141209T000000  538000.0  ... -122.319           1690        7639\n",
              "2  5631500400  20150225T000000  180000.0  ... -122.233           2720        8062\n",
              "3  2487200875  20141209T000000  604000.0  ... -122.393           1360        5000\n",
              "4  1954400510  20150218T000000  510000.0  ... -122.045           1800        7503\n",
              "\n",
              "[5 rows x 21 columns]"
            ]
          },
          "metadata": {
            "tags": []
          },
          "execution_count": 4
        }
      ]
    },
    {
      "cell_type": "markdown",
      "metadata": {
        "id": "Bv9TWm3jS3YL"
      },
      "source": [
        "### Questions"
      ]
    },
    {
      "cell_type": "code",
      "metadata": {
        "colab": {
          "base_uri": "https://localhost:8080/"
        },
        "id": "XlTBdXFPxo4Y",
        "outputId": "3d25ea63-af8a-4143-f791-344b37c9ddc2"
      },
      "source": [
        "# 1 - Quantas casas estão disponíveis para compra?\r\n",
        "len(data)\r\n",
        "print(f'Há {len(data)} casas disponíveis para compra.')"
      ],
      "execution_count": 5,
      "outputs": [
        {
          "output_type": "stream",
          "text": [
            "Há 21613 casas disponíveis para compra.\n"
          ],
          "name": "stdout"
        }
      ]
    },
    {
      "cell_type": "code",
      "metadata": {
        "colab": {
          "base_uri": "https://localhost:8080/"
        },
        "id": "u4aVWUSKxozh",
        "outputId": "84c7998e-ae3c-4470-9c2d-7c552cf30c64"
      },
      "source": [
        "# 2 - Quantos atributos as casas possuem?\r\n",
        "data.shape[1]\r\n",
        "print(f'As casas possuem {data.shape[1]} atributos.')"
      ],
      "execution_count": 6,
      "outputs": [
        {
          "output_type": "stream",
          "text": [
            "As casas possuem 21 atributos.\n"
          ],
          "name": "stdout"
        }
      ]
    },
    {
      "cell_type": "code",
      "metadata": {
        "colab": {
          "base_uri": "https://localhost:8080/"
        },
        "id": "mqVMM0ryxwUN",
        "outputId": "dfd5d7a9-40b8-4407-96e0-f3a41ed4676d"
      },
      "source": [
        "# 3 - Quais são os atributos das casas?\r\n",
        "data.columns\r\n",
        "print(f'Os atributos são: {data.columns}.')"
      ],
      "execution_count": 7,
      "outputs": [
        {
          "output_type": "stream",
          "text": [
            "Os atributos são: Index(['id', 'date', 'price', 'bedrooms', 'bathrooms', 'sqft_living',\n",
            "       'sqft_lot', 'floors', 'waterfront', 'view', 'condition', 'grade',\n",
            "       'sqft_above', 'sqft_basement', 'yr_built', 'yr_renovated', 'zipcode',\n",
            "       'lat', 'long', 'sqft_living15', 'sqft_lot15'],\n",
            "      dtype='object').\n"
          ],
          "name": "stdout"
        }
      ]
    },
    {
      "cell_type": "code",
      "metadata": {
        "colab": {
          "base_uri": "https://localhost:8080/"
        },
        "id": "ZC0sL80Oxw4U",
        "outputId": "938120fa-ef35-415e-e42f-c7f9e45fa508"
      },
      "source": [
        "# 4. Qual a casa mais cara (casa com o maior valor de venda )?\r\n",
        "data['price'].max()"
      ],
      "execution_count": 8,
      "outputs": [
        {
          "output_type": "execute_result",
          "data": {
            "text/plain": [
              "7700000.0"
            ]
          },
          "metadata": {
            "tags": []
          },
          "execution_count": 8
        }
      ]
    },
    {
      "cell_type": "code",
      "metadata": {
        "colab": {
          "base_uri": "https://localhost:8080/",
          "height": 97
        },
        "id": "frLsy9PM28lo",
        "outputId": "ceb18dca-68a7-4ca1-be9c-d143e1625099"
      },
      "source": [
        "print(f'A casa com o maior de venda é: ')\r\n",
        "data[['id', 'price']].sort_values(by='price', ascending=False).head(1)"
      ],
      "execution_count": 9,
      "outputs": [
        {
          "output_type": "stream",
          "text": [
            "A casa com o maior de venda é: \n"
          ],
          "name": "stdout"
        },
        {
          "output_type": "execute_result",
          "data": {
            "text/html": [
              "<div>\n",
              "<style scoped>\n",
              "    .dataframe tbody tr th:only-of-type {\n",
              "        vertical-align: middle;\n",
              "    }\n",
              "\n",
              "    .dataframe tbody tr th {\n",
              "        vertical-align: top;\n",
              "    }\n",
              "\n",
              "    .dataframe thead th {\n",
              "        text-align: right;\n",
              "    }\n",
              "</style>\n",
              "<table border=\"1\" class=\"dataframe\">\n",
              "  <thead>\n",
              "    <tr style=\"text-align: right;\">\n",
              "      <th></th>\n",
              "      <th>id</th>\n",
              "      <th>price</th>\n",
              "    </tr>\n",
              "  </thead>\n",
              "  <tbody>\n",
              "    <tr>\n",
              "      <th>7252</th>\n",
              "      <td>6762700020</td>\n",
              "      <td>7700000.0</td>\n",
              "    </tr>\n",
              "  </tbody>\n",
              "</table>\n",
              "</div>"
            ],
            "text/plain": [
              "              id      price\n",
              "7252  6762700020  7700000.0"
            ]
          },
          "metadata": {
            "tags": []
          },
          "execution_count": 9
        }
      ]
    },
    {
      "cell_type": "code",
      "metadata": {
        "colab": {
          "base_uri": "https://localhost:8080/",
          "height": 97
        },
        "id": "EbJ7iUFWxxZX",
        "outputId": "5ea20983-4953-4695-9036-690670b3b5d7"
      },
      "source": [
        "# 5. Qual a casa com o maior número de quartos?\r\n",
        "print(f'A casa com o maior número de quartos é: ')\r\n",
        "data[['id', 'bedrooms']].sort_values(by='bedrooms', ascending=False).head(1)"
      ],
      "execution_count": 10,
      "outputs": [
        {
          "output_type": "stream",
          "text": [
            "A casa com o maior número de quartos é: \n"
          ],
          "name": "stdout"
        },
        {
          "output_type": "execute_result",
          "data": {
            "text/html": [
              "<div>\n",
              "<style scoped>\n",
              "    .dataframe tbody tr th:only-of-type {\n",
              "        vertical-align: middle;\n",
              "    }\n",
              "\n",
              "    .dataframe tbody tr th {\n",
              "        vertical-align: top;\n",
              "    }\n",
              "\n",
              "    .dataframe thead th {\n",
              "        text-align: right;\n",
              "    }\n",
              "</style>\n",
              "<table border=\"1\" class=\"dataframe\">\n",
              "  <thead>\n",
              "    <tr style=\"text-align: right;\">\n",
              "      <th></th>\n",
              "      <th>id</th>\n",
              "      <th>bedrooms</th>\n",
              "    </tr>\n",
              "  </thead>\n",
              "  <tbody>\n",
              "    <tr>\n",
              "      <th>15870</th>\n",
              "      <td>2402100895</td>\n",
              "      <td>33</td>\n",
              "    </tr>\n",
              "  </tbody>\n",
              "</table>\n",
              "</div>"
            ],
            "text/plain": [
              "               id  bedrooms\n",
              "15870  2402100895        33"
            ]
          },
          "metadata": {
            "tags": []
          },
          "execution_count": 10
        }
      ]
    },
    {
      "cell_type": "code",
      "metadata": {
        "colab": {
          "base_uri": "https://localhost:8080/"
        },
        "id": "dX9SPui_xxmB",
        "outputId": "7bcc9f20-1cf4-403a-b2c2-71396f892096"
      },
      "source": [
        "# 6. Qual a soma total de quartos do conjunto de dados?\r\n",
        "data['bedrooms'].sum()\r\n",
        "print(f\"O conjunto de dados tem ao todo {data['bedrooms'].sum()} quartos.\")"
      ],
      "execution_count": 11,
      "outputs": [
        {
          "output_type": "stream",
          "text": [
            "O conjunto de dados tem ao todo 72854 quartos.\n"
          ],
          "name": "stdout"
        }
      ]
    },
    {
      "cell_type": "code",
      "metadata": {
        "colab": {
          "base_uri": "https://localhost:8080/"
        },
        "id": "dnI2id_Oxxyd",
        "outputId": "c62293f5-d1c7-49ad-86d5-0b2acce6a47a"
      },
      "source": [
        "# 7. Quantas casas possuem 2 banheiros?\r\n",
        "len(data[data['bathrooms'] == 2])\r\n",
        "print(f\"Ao todo, {len(data[data['bathrooms'] == 2])} casas possuem 2 banheiros.\")"
      ],
      "execution_count": 12,
      "outputs": [
        {
          "output_type": "stream",
          "text": [
            "Ao todo, 1930 casas possuem 2 banheiros.\n"
          ],
          "name": "stdout"
        }
      ]
    },
    {
      "cell_type": "code",
      "metadata": {
        "colab": {
          "base_uri": "https://localhost:8080/"
        },
        "id": "04m-ySDXyAR9",
        "outputId": "c3ac1ebf-3a6a-43be-db85-0f22680fce88"
      },
      "source": [
        "# 8. Qual o preço médio de todas as casas no conjunto de dados?\r\n",
        "round(data['price'].mean(), 2)\r\n",
        "print(f\"O preço médio das casas deste conjunto é de ${round(data['price'].mean(), 2)}.\")"
      ],
      "execution_count": 13,
      "outputs": [
        {
          "output_type": "stream",
          "text": [
            "O preço médio das casas deste conjunto é de $540088.14.\n"
          ],
          "name": "stdout"
        }
      ]
    },
    {
      "cell_type": "code",
      "metadata": {
        "colab": {
          "base_uri": "https://localhost:8080/"
        },
        "id": "byAJzTxgyAok",
        "outputId": "878f7b9f-9aca-44bd-94d1-f2cbb9771ac3"
      },
      "source": [
        "# 9. Qual o preço médio de casas com 2 banheiros?\r\n",
        "round(data[data['bathrooms'] == 2]['price'].mean(), 2)\r\n",
        "print(f\"O preço médio das casas com 2 banheiros é de ${round(data[data['bathrooms'] == 2]['price'].mean(), 2)}\")"
      ],
      "execution_count": 14,
      "outputs": [
        {
          "output_type": "stream",
          "text": [
            "O preço médio das casas com 2 banheiros é de $457889.72\n"
          ],
          "name": "stdout"
        }
      ]
    },
    {
      "cell_type": "code",
      "metadata": {
        "colab": {
          "base_uri": "https://localhost:8080/"
        },
        "id": "ElX4dojsyA4W",
        "outputId": "449c11ac-60d8-496b-bf3e-808c776b31b6"
      },
      "source": [
        "# 10. Qual o preço mínimo entre as casas com 3 quartos?\r\n",
        "data[data['bedrooms'] == 3]['price'].min()\r\n",
        "print(f\"O preço mínimo entre as casas com 3 quartos é de ${data[data['bedrooms'] == 3]['price'].min()}.\")"
      ],
      "execution_count": 15,
      "outputs": [
        {
          "output_type": "stream",
          "text": [
            "O preço mínimo entre as casas com 3 quartos é de $82000.0.\n"
          ],
          "name": "stdout"
        }
      ]
    },
    {
      "cell_type": "code",
      "metadata": {
        "colab": {
          "base_uri": "https://localhost:8080/"
        },
        "id": "mbMLI_rxyBEL",
        "outputId": "a0182f78-7fad-4072-bd62-e0a170d905d5"
      },
      "source": [
        "# 11. Quantas casas possuem mais de 300 metros quadrados na sala de estar?\r\n",
        "data['m2_living'] = data['sqft_living'] * 0.092\r\n",
        "len(data[data['m2_living'] > 300])\r\n",
        "print(f\"{len(data[data['m2_living'] > 300])} casas possuem mais de 300 m² na sala de estar.\")"
      ],
      "execution_count": 16,
      "outputs": [
        {
          "output_type": "stream",
          "text": [
            "2141 casas possuem mais de 300 m² na sala de estar.\n"
          ],
          "name": "stdout"
        }
      ]
    },
    {
      "cell_type": "code",
      "metadata": {
        "colab": {
          "base_uri": "https://localhost:8080/"
        },
        "id": "3GUO0eTHyJmy",
        "outputId": "b19cded3-3aeb-4f36-ab42-bc24b5b55705"
      },
      "source": [
        "# 12. Quantas casas tem mais de 2 andares?\r\n",
        "len(data[data['floors'] > 2])\r\n",
        "print(f\"{len(data[data['floors'] > 2])} casas possuem mais de 2 andares.\")"
      ],
      "execution_count": 17,
      "outputs": [
        {
          "output_type": "stream",
          "text": [
            "782 casas possuem mais de 2 andares.\n"
          ],
          "name": "stdout"
        }
      ]
    },
    {
      "cell_type": "code",
      "metadata": {
        "colab": {
          "base_uri": "https://localhost:8080/"
        },
        "id": "bg3X2Hx7yKKA",
        "outputId": "6f764aec-123f-41b9-9b5d-aa8aa8ba9a52"
      },
      "source": [
        "# 13. Quantas casas tem vista para o mar?\r\n",
        "len(data[data['waterfront'] == 1])\r\n",
        "print(f\"Há {len(data[data['waterfront'] == 1])} casas com vista para o mar.\")"
      ],
      "execution_count": 18,
      "outputs": [
        {
          "output_type": "stream",
          "text": [
            "Há 163 casas com vista para o mar.\n"
          ],
          "name": "stdout"
        }
      ]
    },
    {
      "cell_type": "code",
      "metadata": {
        "colab": {
          "base_uri": "https://localhost:8080/"
        },
        "id": "xHRWoEHMyKVr",
        "outputId": "82f0ef8f-4c71-4382-9eeb-c92e9241fa95"
      },
      "source": [
        "# 14. Das casas com vista para o mar, quantas tem 3 quartos?\r\n",
        "len(data.loc[(data['waterfront'] == 1) & (data['bedrooms'] == 3)])\r\n",
        "print(f\"Há {len(data.loc[(data['waterfront'] == 1) & (data['bedrooms'] == 3)])} casas com vista para o mar e 3 quartos.\")"
      ],
      "execution_count": 19,
      "outputs": [
        {
          "output_type": "stream",
          "text": [
            "Há 64 casas com vista para o mar e 3 quartos.\n"
          ],
          "name": "stdout"
        }
      ]
    },
    {
      "cell_type": "code",
      "metadata": {
        "colab": {
          "base_uri": "https://localhost:8080/"
        },
        "id": "goNlmMyRyKge",
        "outputId": "f697b50f-1203-4d72-9b22-8c0355546374"
      },
      "source": [
        "# 15. Das casas com mais de 300 metros quadrados de sala de estar, quantas tem mais de 2 banheiros?\r\n",
        "len(data[(data['m2_living'] > 300) & (data['bathrooms'] > 2)])\r\n",
        "print(f\"Há {len(data[(data['m2_living'] > 300) & (data['bathrooms'] > 2)])} casas com sala maior que 300 metros e 2 banheiros.\")"
      ],
      "execution_count": 20,
      "outputs": [
        {
          "output_type": "stream",
          "text": [
            "Há 2088 casas com sala maior que 300 metros e 2 banheiros.\n"
          ],
          "name": "stdout"
        }
      ]
    }
  ]
}